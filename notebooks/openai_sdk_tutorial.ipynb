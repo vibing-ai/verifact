{
 "cells": [
  {
   "cell_type": "markdown",
   "metadata": {},
   "source": [
    "## Tutorial code for OpenAI Agents SDK"
   ]
  },
  {
   "cell_type": "markdown",
   "metadata": {},
   "source": [
    "See OpenAI official quickstart tutorial [here](https://openai.github.io/openai-agents-python/quickstart/)"
   ]
  },
  {
   "cell_type": "code",
   "execution_count": 1,
   "metadata": {},
   "outputs": [],
   "source": [
    "from dotenv import load_dotenv\n",
    "\n",
    "load_dotenv()\n",
    "from agents import Agent"
   ]
  },
  {
   "cell_type": "code",
   "execution_count": 11,
   "metadata": {},
   "outputs": [],
   "source": [
    "agent = Agent(\n",
    "    name=\"Math Tutor\",\n",
    "    instructions=\"You provide help with math problems. Explain your reasoning at each step and include examples\",\n",
    ")"
   ]
  },
  {
   "cell_type": "markdown",
   "metadata": {},
   "source": [
    "Additional agents can be defined in the same way. handoff_descriptions provide additional context for determining handoff routing"
   ]
  },
  {
   "cell_type": "code",
   "execution_count": 12,
   "metadata": {},
   "outputs": [],
   "source": [
    "from agents import Agent\n",
    "\n",
    "history_tutor_agent = Agent(\n",
    "    name=\"History Tutor\",\n",
    "    handoff_description=\"Specialist agent for historical questions\",\n",
    "    instructions=\"You provide assistance with historical queries. Explain important events and context clearly.\",\n",
    ")\n",
    "\n",
    "math_tutor_agent = Agent(\n",
    "    name=\"Math Tutor\",\n",
    "    handoff_description=\"Specialist agent for math questions\",\n",
    "    instructions=\"You provide help with math problems. Explain your reasoning at each step and include examples\",\n",
    ")"
   ]
  },
  {
   "cell_type": "markdown",
   "metadata": {},
   "source": [
    "On each agent, you can define an inventory of outgoing handoff options that the agent can choose from to decide how to make progress on their task."
   ]
  },
  {
   "cell_type": "code",
   "execution_count": 13,
   "metadata": {},
   "outputs": [],
   "source": [
    "triage_agent = Agent(\n",
    "    name=\"Triage Agent\",\n",
    "    instructions=\"You determine which agent to use based on the user's homework question\",\n",
    "    handoffs=[history_tutor_agent, math_tutor_agent],\n",
    ")"
   ]
  },
  {
   "cell_type": "markdown",
   "metadata": {},
   "source": [
    "Testing"
   ]
  },
  {
   "cell_type": "code",
   "execution_count": 14,
   "metadata": {},
   "outputs": [],
   "source": [
    "from agents import Runner\n",
    "\n",
    "\n",
    "async def main():\n",
    "    result = await Runner.run(triage_agent, \"What is the capital of France?\")\n",
    "    print(result.final_output)"
   ]
  },
  {
   "cell_type": "markdown",
   "metadata": {},
   "source": [
    "Add guardrail"
   ]
  },
  {
   "cell_type": "code",
   "execution_count": 15,
   "metadata": {},
   "outputs": [],
   "source": [
    "from pydantic import BaseModel\n",
    "\n",
    "from agents import Agent, GuardrailFunctionOutput\n",
    "\n",
    "\n",
    "class HomeworkOutput(BaseModel):\n",
    "    is_homework: bool\n",
    "    reasoning: str\n",
    "\n",
    "\n",
    "guardrail_agent = Agent(\n",
    "    name=\"Guardrail check\",\n",
    "    instructions=\"Check if the user is asking about homework.\",\n",
    "    output_type=HomeworkOutput,\n",
    ")\n",
    "\n",
    "\n",
    "async def homework_guardrail(ctx, agent, input_data):\n",
    "    result = await Runner.run(guardrail_agent, input_data, context=ctx.context)\n",
    "    final_output = result.final_output_as(HomeworkOutput)\n",
    "    return GuardrailFunctionOutput(\n",
    "        output_info=final_output,\n",
    "        tripwire_triggered=not final_output.is_homework,\n",
    "    )"
   ]
  },
  {
   "cell_type": "markdown",
   "metadata": {},
   "source": [
    "Let's put it all together and run the entire workflow, using handoffs and the input guardrail."
   ]
  },
  {
   "cell_type": "code",
   "execution_count": null,
   "metadata": {},
   "outputs": [],
   "source": [
    "from pydantic import BaseModel\n",
    "\n",
    "from agents import Agent, InputGuardrail\n",
    "\n",
    "\n",
    "class HomeworkOutput(BaseModel):\n",
    "    is_homework: bool\n",
    "    reasoning: str\n",
    "\n",
    "\n",
    "guardrail_agent = Agent(\n",
    "    name=\"Guardrail check\",\n",
    "    instructions=\"Check if the user is asking about homework.\",\n",
    "    output_type=HomeworkOutput,\n",
    ")\n",
    "\n",
    "math_tutor_agent = Agent(\n",
    "    name=\"Math Tutor\",\n",
    "    handoff_description=\"Specialist agent for math questions\",\n",
    "    instructions=\"You provide help with math problems. Explain your reasoning at each step and include examples\",\n",
    ")\n",
    "\n",
    "history_tutor_agent = Agent(\n",
    "    name=\"History Tutor\",\n",
    "    handoff_description=\"Specialist agent for historical questions\",\n",
    "    instructions=\"You provide assistance with historical queries. Explain important events and context clearly.\",\n",
    ")\n",
    "\n",
    "\n",
    "async def homework_guardrail(ctx, agent, input_data):\n",
    "    result = await Runner.run(guardrail_agent, input_data, context=ctx.context)\n",
    "    final_output = result.final_output_as(HomeworkOutput)\n",
    "    return GuardrailFunctionOutput(\n",
    "        output_info=final_output,\n",
    "        tripwire_triggered=not final_output.is_homework,\n",
    "    )\n",
    "\n",
    "\n",
    "triage_agent = Agent(\n",
    "    name=\"Triage Agent\",\n",
    "    instructions=\"You determine which agent to use based on the user's homework question\",\n",
    "    handoffs=[history_tutor_agent, math_tutor_agent],\n",
    "    input_guardrails=[\n",
    "        InputGuardrail(guardrail_function=homework_guardrail),\n",
    "    ],\n",
    ")\n",
    "\n",
    "\n",
    "async def main():\n",
    "    result = await Runner.run(triage_agent, \"who was the first president of the united states?\")\n",
    "    print(result.final_output)\n",
    "\n",
    "    result = await Runner.run(triage_agent, \"what is life\")\n",
    "    print(result.final_output)\n",
    "\n",
    "\n",
    "await main()"
   ]
  },
  {
   "cell_type": "markdown",
   "metadata": {},
   "source": [
    "## A research assistant"
   ]
  },
  {
   "cell_type": "code",
   "execution_count": null,
   "metadata": {},
   "outputs": [],
   "source": [
    "from agents import Agent, Runner, WebSearchTool\n",
    "from dotenv import load_dotenv\n",
    "\n",
    "load_dotenv()\n",
    "\n",
    "# Create a research assistant with web search capability\n",
    "research_assistant = Agent(\n",
    "   name=\"Research Assistant\",\n",
    "   instructions=\"\"\"You are a research assistant that helps users find and summarize information.\n",
    "   When asked about a topic:\n",
    "   1. Search the web for relevant, up-to-date information\n",
    "   2. Synthesize the information into a clear, concise summary\n",
    "   3. Structure your response with headings and bullet points when appropriate\n",
    "   4. Always cite your sources at the end of your response\n",
    "  \n",
    "   If the information might be time-sensitive or rapidly changing, mention when the search was performed.\n",
    "   \"\"\",\n",
    "   tools=[WebSearchTool()]\n",
    ")\n",
    "\n",
    "async def research_topic(topic):\n",
    "   result = await Runner.run(research_assistant, f\"Please research and summarize: {topic}. Only return the found links with very minimal text.\")\n",
    "   return result.final_output\n",
    "\n",
    "# Usage example (in Jupyter notebook)\n",
    "summary = await research_topic(\"Latest developments in personal productivity apps.\")\n",
    "print(summary[:512])"
   ]
  },
  {
   "cell_type": "markdown",
   "metadata": {},
   "source": [
    "## Agents as tools"
   ]
  },
  {
   "cell_type": "code",
   "execution_count": null,
   "metadata": {},
   "outputs": [],
   "source": [
    "from agents import Agent, Runner\n",
    "from dotenv import load_dotenv\n",
    "\n",
    "load_dotenv()\n",
    "\n",
    "# Specialist agents\n",
    "note_taking_agent = Agent(\n",
    "   name=\"Note Manager\",\n",
    "   instructions=\"You help users take and organize notes efficiently.\",\n",
    "   # In a real application, this agent would have note-taking tools\n",
    ")\n",
    "\n",
    "task_management_agent = Agent(\n",
    "   name=\"Task Manager\",\n",
    "   instructions=\"You help users manage tasks, deadlines, and priorities.\",\n",
    "   # In a real application, this agent would have task management tools\n",
    ")\n",
    "\n",
    "# Coordinator agent that uses specialists as tools\n",
    "productivity_assistant = Agent(\n",
    "   name=\"Productivity Assistant\",\n",
    "   instructions=\"\"\"You are a productivity assistant that helps users organize their work and personal life.\n",
    "  \n",
    "   For note-taking questions or requests, use the note_taking tool.\n",
    "   For task and deadline management, use the task_management tool.\n",
    "  \n",
    "   Help the user decide which tool is appropriate based on their request,\n",
    "   and coordinate between different aspects of productivity.\n",
    "   \"\"\",\n",
    "   tools=[\n",
    "       note_taking_agent.as_tool(\n",
    "           tool_name=\"note_taking\",\n",
    "           tool_description=\"For taking, organizing, and retrieving notes and information\"\n",
    "       ),\n",
    "       task_management_agent.as_tool(\n",
    "           tool_name=\"task_management\",\n",
    "           tool_description=\"For managing tasks, setting deadlines, and tracking priorities\"\n",
    "       )\n",
    "   ]\n",
    ")"
   ]
  },
  {
   "cell_type": "code",
   "execution_count": null,
   "metadata": {},
   "outputs": [],
   "source": [
    "async def main():\n",
    "   runner = Runner()\n",
    "  \n",
    "   result = await runner.run(productivity_assistant, \"I need to keep track of my project deadlines\")\n",
    "   print(result.final_output)\n",
    "\n",
    "await main()"
   ]
  },
  {
   "cell_type": "markdown",
   "metadata": {},
   "source": [
    "## Using openrouter"
   ]
  },
  {
   "cell_type": "code",
   "execution_count": null,
   "metadata": {},
   "outputs": [],
   "source": [
    "import os\n",
    "import httpx\n",
    "from openai import AsyncOpenAI\n",
    "from agents import OpenAIChatCompletionsModel, ModelProvider, function_tool, Runner, RunConfig"
   ]
  },
  {
   "cell_type": "code",
   "execution_count": null,
   "metadata": {},
   "outputs": [],
   "source": [
    "OPENROUTER_API_KEY = os.getenv(\"OPENROUTER_API_KEY\")\n",
    "OPENROUTER_BASE_URL = \"https://openrouter.ai/api/v1\"\n",
    "\n",
    "client = AsyncOpenAI(base_url=OPENROUTER_BASE_URL, api_key=OPENROUTER_API_KEY)"
   ]
  },
  {
   "cell_type": "code",
   "execution_count": null,
   "metadata": {},
   "outputs": [],
   "source": [
    "class CustomModelProvider(ModelProvider):\n",
    "    def get_model(self, model_name: str | None):\n",
    "        return OpenAIChatCompletionsModel(model='qwen/qwen3-8b:free', openai_client=client)\n",
    "    \n",
    "CUSTOM_MODEL_PROVIDER = CustomModelProvider()"
   ]
  },
  {
   "cell_type": "code",
   "execution_count": null,
   "metadata": {},
   "outputs": [],
   "source": [
    "@function_tool\n",
    "def get_weather(city: str):\n",
    "    print(f\"[debug] getting weather for {city}\")\n",
    "    return f\"The weather in {city} is sunny.\"\n",
    "\n",
    "async def main():\n",
    "    agent = Agent(name=\"Assistant\", instructions=\"You only respond in haikus.\", tools=[])\n",
    "\n",
    "    # This will use the custom model provider\n",
    "    result = await Runner.run(\n",
    "        agent,\n",
    "        \"What's the weather in Tokyo?\",\n",
    "        run_config=RunConfig(model_provider=CUSTOM_MODEL_PROVIDER),\n",
    "    )\n",
    "    print(result.final_output)"
   ]
  },
  {
   "cell_type": "code",
   "execution_count": null,
   "metadata": {},
   "outputs": [
    {
     "name": "stdout",
     "output_type": "stream",
     "text": [
      "Tokyo sun shines bright,  \n",
      "Temps climb to 28°C,  \n",
      "Breeze hints at rain.\n"
     ]
    }
   ],
   "source": [
    "await main()"
   ]
  }
 ],
 "metadata": {
  "kernelspec": {
   "display_name": ".venv",
   "language": "python",
   "name": "python3"
  },
  "language_info": {
   "codemirror_mode": {
    "name": "ipython",
    "version": 3
   },
   "file_extension": ".py",
   "mimetype": "text/x-python",
   "name": "python",
   "nbconvert_exporter": "python",
   "pygments_lexer": "ipython3",
   "version": "3.10.3"
  }
 },
 "nbformat": 4,
 "nbformat_minor": 2
}
